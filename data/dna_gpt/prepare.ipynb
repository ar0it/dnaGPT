{
 "cells": [
  {
   "cell_type": "code",
   "outputs": [],
   "source": [
    "\"\"\"\n",
    "Prepare the DNA dataset for training, \n",
    "\"\"\"\n",
    "import os\n",
    "import pickle\n",
    "import requests\n",
    "import numpy as np"
   ],
   "metadata": {
    "collapsed": false,
    "ExecuteTime": {
     "end_time": "2024-01-11T14:33:26.670015114Z",
     "start_time": "2024-01-11T14:33:26.586663004Z"
    }
   },
   "id": "8725daf3b2ff1fed",
   "execution_count": 7
  },
  {
   "cell_type": "code",
   "outputs": [
    {
     "name": "stdout",
     "output_type": "stream",
     "text": [
      "Downloading records 1 to 1000...\n",
      "Downloaded so far: 11.57 MB\n"
     ]
    }
   ],
   "source": [
    "from Bio import Entrez, SeqIO\n",
    "import os\n",
    "\n",
    "def download_sequences(email, search_term, max_size_mb, batch_size=1000):\n",
    "    Entrez.email = email\n",
    "    handle = Entrez.esearch(db=\"nucleotide\", term=search_term, retmax=batch_size)\n",
    "    record = Entrez.read(handle)\n",
    "    handle.close()\n",
    "\n",
    "    ids = record[\"IdList\"]\n",
    "    downloaded_size = 0\n",
    "    dataset = \"\"\n",
    "    \n",
    "    for start in range(0, len(ids), batch_size):\n",
    "        end = min(len(ids), start+batch_size)\n",
    "        print(f\"Downloading records {start+1} to {end}...\")\n",
    "\n",
    "        fetch_handle = Entrez.efetch(db=\"nucleotide\", id=ids[start:end], rettype=\"fasta\", retmode=\"text\")\n",
    "        data = fetch_handle.read()\n",
    "        fetch_handle.close()\n",
    "\n",
    "        filename = f\"sequences_{start+1}_to_{end}.fasta\"\n",
    "        with open(filename, \"w\") as f:\n",
    "            f.write(data)\n",
    "\n",
    "        downloaded_size += len(data)\n",
    "\n",
    "        dataset += data\n",
    "        if downloaded_size >= max_size_mb * 1024 * 1024:\n",
    "            break\n",
    "\n",
    "        print(f\"Downloaded so far: {downloaded_size / (1024 * 1024):.2f} MB\")\n",
    "    return dataset\n",
    "\n",
    "data = download_sequences(\"aaron@riedling.eu\", \"gene[All Fields]\", 100)"
   ],
   "metadata": {
    "collapsed": false,
    "ExecuteTime": {
     "end_time": "2024-01-11T14:49:30.384255291Z",
     "start_time": "2024-01-11T14:49:18.224134573Z"
    }
   },
   "id": "cd9d073d11e14d49",
   "execution_count": 13
  },
  {
   "cell_type": "code",
   "outputs": [
    {
     "data": {
      "text/plain": "12135785"
     },
     "execution_count": 14,
     "metadata": {},
     "output_type": "execute_result"
    }
   ],
   "source": [
    "len(data)"
   ],
   "metadata": {
    "collapsed": false,
    "ExecuteTime": {
     "end_time": "2024-01-11T14:49:35.053759680Z",
     "start_time": "2024-01-11T14:49:35.051123362Z"
    }
   },
   "id": "aeaa882183b8c5d3",
   "execution_count": 14
  },
  {
   "cell_type": "code",
   "outputs": [
    {
     "name": "stdout",
     "output_type": "stream",
     "text": [
      "all the unique characters: \n",
      " ,.0123456789;>ABCDEGJLNOPRSTUWXZ_abcdeghilmnopqrstuvwy\n",
      "vocab size: 56\n"
     ]
    }
   ],
   "source": [
    "# get all the unique characters that occur in this text\n",
    "chars = sorted(list(set(data)))\n",
    "vocab_size = len(chars)\n",
    "print(\"all the unique characters:\", ''.join(chars))\n",
    "print(f\"vocab size: {vocab_size:,}\")\n",
    "# create a mapping from characters to integers\n",
    "stoi = { ch:i for i,ch in enumerate(chars) }\n",
    "itos = { i:ch for i,ch in enumerate(chars) }"
   ],
   "metadata": {
    "collapsed": false,
    "ExecuteTime": {
     "end_time": "2024-01-11T14:51:55.183789387Z",
     "start_time": "2024-01-11T14:51:55.180580379Z"
    }
   },
   "id": "37d2a07656ee2499",
   "execution_count": 22
  },
  {
   "cell_type": "code",
   "outputs": [
    {
     "name": "stdout",
     "output_type": "stream",
     "text": [
      "train has 10,922,206 tokens\n",
      "val has 1,213,579 tokens\n"
     ]
    }
   ],
   "source": [
    "def encode(s):\n",
    "    return [stoi[c] for c in s] # encoder: take a string, output a list of integers\n",
    "def decode(l):\n",
    "    return ''.join([itos[i] for i in l]) # decoder: take a list of integers, output a string\n",
    "\n",
    "# create the train and test splits\n",
    "n = len(data)\n",
    "train_data = data[:int(n*0.9)]\n",
    "val_data = data[int(n*0.9):]\n",
    "\n",
    "# encode both to integers\n",
    "train_ids = encode(train_data)\n",
    "val_ids = encode(val_data)\n",
    "print(f\"train has {len(train_ids):,} tokens\")\n",
    "print(f\"val has {len(val_ids):,} tokens\")"
   ],
   "metadata": {
    "collapsed": false,
    "ExecuteTime": {
     "end_time": "2024-01-11T14:53:46.457236548Z",
     "start_time": "2024-01-11T14:53:46.167664008Z"
    }
   },
   "id": "d63d4713249d3597",
   "execution_count": 23
  },
  {
   "cell_type": "code",
   "outputs": [
    {
     "name": "stdout",
     "output_type": "stream",
     "text": [
      "working directory: /home/aaron/DataspellProjects/nanoGPT/data/dna_gpt\n"
     ]
    }
   ],
   "source": [
    "# export to bin files\n",
    "wd = current_dir = os.getcwd()\n",
    "print(\"working directory:\", wd)\n",
    "dir_path = os.path.dirname(wd)\n",
    "if not os.path.exists(dir_path):\n",
    "    os.makedirs(dir_path)\n",
    "train_ids = np.array(train_ids, dtype=np.uint16)\n",
    "val_ids = np.array(val_ids, dtype=np.uint16)\n",
    "train_ids.tofile(os.path.join(os.path.dirname(wd), 'train.bin'))\n",
    "val_ids.tofile(os.path.join(os.path.dirname(wd), 'val.bin'))\n",
    "\n",
    "# save the meta information as well, to help us encode/decode later\n",
    "meta = {\n",
    "    'vocab_size': vocab_size,\n",
    "    'itos': itos,\n",
    "    'stoi': stoi,\n",
    "}\n",
    "with open(os.path.join(os.path.dirname(wd), 'meta.pkl'), 'wb') as f:\n",
    "    pickle.dump(meta, f)\n",
    "\n",
    "# length of dataset in characters:  1115394\n",
    "# all the unique characters:\n",
    "#  !$&',-.3:;?ABCDEFGHIJKLMNOPQRSTUVWXYZabcdefghijklmnopqrstuvwxyz\n",
    "# vocab size: 65\n",
    "# train has 1003854 tokens\n",
    "# val has 111540 tokens"
   ],
   "metadata": {
    "collapsed": false,
    "ExecuteTime": {
     "end_time": "2024-01-11T15:12:09.679062159Z",
     "start_time": "2024-01-11T15:12:09.653716588Z"
    }
   },
   "id": "7c6f3b2332692e06",
   "execution_count": 33
  }
 ],
 "metadata": {
  "kernelspec": {
   "display_name": "Python 3",
   "language": "python",
   "name": "python3"
  },
  "language_info": {
   "codemirror_mode": {
    "name": "ipython",
    "version": 2
   },
   "file_extension": ".py",
   "mimetype": "text/x-python",
   "name": "python",
   "nbconvert_exporter": "python",
   "pygments_lexer": "ipython2",
   "version": "2.7.6"
  }
 },
 "nbformat": 4,
 "nbformat_minor": 5
}
