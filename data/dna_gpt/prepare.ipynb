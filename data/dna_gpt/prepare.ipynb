{
 "cells": [
  {
   "cell_type": "code",
   "outputs": [],
   "source": [
    "\"\"\"\n",
    "Prepare the DNA dataset for training, \n",
    "\"\"\"\n",
    "import os\n",
    "import pickle\n",
    "import requests\n",
    "import numpy as np"
   ],
   "metadata": {
    "collapsed": false,
    "ExecuteTime": {
     "end_time": "2024-01-11T16:43:21.492268650Z",
     "start_time": "2024-01-11T16:43:21.342543012Z"
    }
   },
   "id": "8725daf3b2ff1fed",
   "execution_count": 1
  },
  {
   "cell_type": "code",
   "outputs": [],
   "source": [
    "from Bio import Entrez, SeqIO\n",
    "import os\n",
    "\n",
    "def download_sequences(email, search_term, max_size_mb, batch_size=100):\n",
    "    Entrez.email = email\n",
    "    handle = Entrez.esearch(db=\"nucleotide\", term=search_term, retmax=batch_size)\n",
    "    record = Entrez.read(handle)\n",
    "    handle.close()\n",
    "\n",
    "    ids = record[\"IdList\"]\n",
    "    print(ids)\n",
    "    downloaded_size = 0\n",
    "    dataset = \"\"\n",
    "    \n",
    "    for start in range(0, len(ids), batch_size):\n",
    "        end = min(len(ids), start+batch_size)\n",
    "        print(f\"Downloading records {start+1} to {end}...\")\n",
    "\n",
    "        fetch_handle = Entrez.efetch(db=\"nucleotide\", id=ids[start:end], rettype=\"fasta\", retmode=\"text\")\n",
    "        data = fetch_handle.read()\n",
    "        fetch_handle.close()\n",
    "\n",
    "        filename = f\"sequences.fasta\"\n",
    "        with open(filename, \"w\") as f:\n",
    "            f.write(data)\n",
    "\n",
    "        downloaded_size += len(data)\n",
    "        max_size = max_size_mb * 1024 * 1024\n",
    "        print(downloaded_size, max_size)\n",
    "\n",
    "        dataset += data\n",
    "        if downloaded_size >= max_size_mb * 1024 * 1024:\n",
    "            break\n",
    "\n",
    "        print(f\"Downloaded so far: {downloaded_size / (1024 * 1024):.2f} MB\")\n",
    "    return dataset\n",
    "\n",
    "data = open(\"/home/aaron/Downloads/GRCh38_latest_genomic.fna\").read()"
   ],
   "metadata": {
    "collapsed": false,
    "ExecuteTime": {
     "end_time": "2024-01-11T16:43:28.441999284Z",
     "start_time": "2024-01-11T16:43:22.681694200Z"
    }
   },
   "id": "cd9d073d11e14d49",
   "execution_count": 2
  },
  {
   "cell_type": "code",
   "outputs": [],
   "source": [
    "GB = 1024 * 1024 * 1024\n",
    "data = data[:int(0.1*GB)]"
   ],
   "metadata": {
    "collapsed": false,
    "ExecuteTime": {
     "end_time": "2024-01-11T16:43:38.737499068Z",
     "start_time": "2024-01-11T16:43:38.732037436Z"
    }
   },
   "id": "aeaa882183b8c5d3",
   "execution_count": 4
  },
  {
   "cell_type": "code",
   "outputs": [
    {
     "name": "stdout",
     "output_type": "stream",
     "text": [
      "all the unique characters: \n",
      " ,.01348>ACGHNPRT_abceghilmnoprsty\n",
      "vocab size: 35\n"
     ]
    }
   ],
   "source": [
    "# get all the unique characters that occur in this text\n",
    "chars = sorted(list(set(data)))\n",
    "vocab_size = len(chars)\n",
    "print(\"all the unique characters:\", ''.join(chars))\n",
    "print(f\"vocab size: {vocab_size:,}\")\n",
    "# create a mapping from characters to integers\n",
    "stoi = { ch:i for i,ch in enumerate(chars) }\n",
    "itos = { i:ch for i,ch in enumerate(chars) }"
   ],
   "metadata": {
    "collapsed": false,
    "ExecuteTime": {
     "end_time": "2024-01-11T16:46:18.656318123Z",
     "start_time": "2024-01-11T16:46:18.612393269Z"
    }
   },
   "id": "37d2a07656ee2499",
   "execution_count": 9
  },
  {
   "cell_type": "code",
   "outputs": [],
   "source": [
    "# create the train and test splits\n",
    "n = len(data)\n",
    "train_data = data[:int(n*0.9)]\n",
    "val_data = data[int(n*0.9):]"
   ],
   "metadata": {
    "collapsed": false,
    "ExecuteTime": {
     "end_time": "2024-01-11T16:44:23.580117221Z",
     "start_time": "2024-01-11T16:44:23.532227265Z"
    }
   },
   "id": "afae5f97ace7b32c",
   "execution_count": 5
  },
  {
   "cell_type": "code",
   "outputs": [
    {
     "name": "stdout",
     "output_type": "stream",
     "text": [
      "train has 96,636,763 tokens\n",
      "val has 10,737,419 tokens\n"
     ]
    }
   ],
   "source": [
    "def encode(s):\n",
    "    return [stoi[c] for c in s] # encoder: take a string, output a list of integers\n",
    "def decode(l):\n",
    "    return ''.join([itos[i] for i in l]) # decoder: take a list of integers, output a string\n",
    "# encode both to integers\n",
    "train_ids = encode(train_data)\n",
    "val_ids = encode(val_data)\n",
    "print(f\"train has {len(train_ids):,} tokens\")\n",
    "print(f\"val has {len(val_ids):,} tokens\")"
   ],
   "metadata": {
    "collapsed": false,
    "ExecuteTime": {
     "end_time": "2024-01-11T16:52:37.607257172Z",
     "start_time": "2024-01-11T16:52:34.335099326Z"
    }
   },
   "id": "f1e44fad08de1e6c",
   "execution_count": 12
  },
  {
   "cell_type": "code",
   "outputs": [],
   "source": [
    "# use dnabert2 tokenizer\n",
    "from transformers import AutoTokenizer, AutoModel\n",
    "tokenizer = AutoTokenizer.from_pretrained(\"zhihan1996/DNABERT-2-117M\", trust_remote_code=True)\n",
    "train_ids = tokenizer(train_data)['input_ids']\n",
    "val_ids = tokenizer(val_data)['input_ids']"
   ],
   "metadata": {
    "collapsed": false,
    "ExecuteTime": {
     "end_time": "2024-01-11T16:45:37.708268400Z",
     "start_time": "2024-01-11T16:44:25.177191740Z"
    }
   },
   "id": "942c6f25415e4be1",
   "execution_count": 6
  },
  {
   "cell_type": "code",
   "outputs": [
    {
     "name": "stdout",
     "output_type": "stream",
     "text": [
      "working directory: /home/aaron/DataspellProjects/nanoGPT/data/dna_gpt\n"
     ]
    }
   ],
   "source": [
    "# export to bin files\n",
    "\n",
    "wd = current_dir = os.getcwd()\n",
    "print(\"working directory:\", wd)\n",
    "if not os.path.exists(dir_path):\n",
    "    os.makedirs(dir_path)\n",
    "train_ids = np.array(train_ids, dtype=np.uint16)\n",
    "val_ids = np.array(val_ids, dtype=np.uint16)\n",
    "train_ids.tofile(os.path.join(wd, 'train.bin'))\n",
    "val_ids.tofile(os.path.join(wd, 'val.bin'))\n",
    "\n",
    "# save the meta information as well, to help us encode/decode later\n",
    "meta = {\n",
    "    'vocab_size': vocab_size,\n",
    "    'itos': itos,\n",
    "    'stoi': stoi,\n",
    "}\n",
    "with open(os.path.join(wd, 'meta.pkl'), 'wb') as f:\n",
    "    pickle.dump(meta, f)\n",
    "\n",
    "# length of dataset in characters:  1115394\n",
    "# all the unique characters:\n",
    "#  !$&',-.3:;?ABCDEFGHIJKLMNOPQRSTUVWXYZabcdefghijklmnopqrstuvwxyz\n",
    "# vocab size: 65\n",
    "# train has 1003854 tokens\n",
    "# val has 111540 tokens"
   ],
   "metadata": {
    "collapsed": false,
    "ExecuteTime": {
     "end_time": "2024-01-11T16:52:43.822624711Z",
     "start_time": "2024-01-11T16:52:41.295715806Z"
    }
   },
   "id": "7c6f3b2332692e06",
   "execution_count": 13
  }
 ],
 "metadata": {
  "kernelspec": {
   "display_name": "Python 3",
   "language": "python",
   "name": "python3"
  },
  "language_info": {
   "codemirror_mode": {
    "name": "ipython",
    "version": 2
   },
   "file_extension": ".py",
   "mimetype": "text/x-python",
   "name": "python",
   "nbconvert_exporter": "python",
   "pygments_lexer": "ipython2",
   "version": "2.7.6"
  }
 },
 "nbformat": 4,
 "nbformat_minor": 5
}
